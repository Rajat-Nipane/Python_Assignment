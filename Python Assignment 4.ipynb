{
 "cells": [
  {
   "cell_type": "code",
   "execution_count": 134,
   "metadata": {},
   "outputs": [
    {
     "data": {
      "text/plain": [
       "'1.1 Write a Python Program(with class concepts) to find the area of the triangle using the below\\nformula.\\narea = (s*(s-a)*(s-b)*(s-c)) ** 0.5\\nFunction to take the length of the sides of triangle from user should be defined in the parent\\nclass and function to calculate the area should be defined in subclass.'"
      ]
     },
     "execution_count": 134,
     "metadata": {},
     "output_type": "execute_result"
    }
   ],
   "source": [
    "\"\"\"1.1 Write a Python Program(with class concepts) to find the area of the triangle using the below\n",
    "formula.\n",
    "area = (s*(s-a)*(s-b)*(s-c)) ** 0.5\n",
    "Function to take the length of the sides of triangle from user should be defined in the parent\n",
    "class and function to calculate the area should be defined in subclass.\"\"\""
   ]
  },
  {
   "cell_type": "code",
   "execution_count": 135,
   "metadata": {},
   "outputs": [
    {
     "name": "stdout",
     "output_type": "stream",
     "text": [
      "Initialised Child class\n",
      "Initialised Triagle super class [3,4,5]\n",
      "6.0\n",
      "Area of triangle = 6.0\n"
     ]
    }
   ],
   "source": [
    "class Traingle:\n",
    "    def _init(self, side1, side2, side3):\n",
    "        self.side1=side1\n",
    "        self.side2=side2\n",
    "        self.side3=side3\n",
    "        print (\"Initialised Triangle super class [\" +  str(side1) + \",\" + str(side2) + \",\" + str(side3) + \"]\")\n",
    "class Triangle_Area(Triangle):\n",
    "    def __init__(self, side1, side2, side3):\n",
    "        print(\"Initialised Child class\")\n",
    "        super(Triangle_Area, self).__init__(side1, side2, side3)\n",
    "    def get_area(self):\n",
    "        s = (self.side1 + self.side2 + self.side3)/2\n",
    "        print (str(s))\n",
    "        return (s*(s-self.side1)*(s-self.side2)*(s-self.side3))**0.5\n",
    "instance = Triangle_Area(3,4,5)\n",
    "print (\"Area of triangle = \" + str(instance.get_area()))      "
   ]
  },
  {
   "cell_type": "code",
   "execution_count": 136,
   "metadata": {},
   "outputs": [
    {
     "data": {
      "text/plain": [
       "'1.2 Write a function filter_long_words() that takes a list of words and an integer n and returns\\nthe list of words that are longer than n.'"
      ]
     },
     "execution_count": 136,
     "metadata": {},
     "output_type": "execute_result"
    }
   ],
   "source": [
    "\"\"\"1.2 Write a function filter_long_words() that takes a list of words and an integer n and returns\n",
    "the list of words that are longer than n.\"\"\""
   ]
  },
  {
   "cell_type": "code",
   "execution_count": 137,
   "metadata": {},
   "outputs": [],
   "source": [
    "def filter_long_words(lst,n):\n",
    "    for i in range(0,len(lst)):\n",
    "        if(type(lst[i]) == str ):\n",
    "            print(lst[i][0:n])\n",
    "        else:\n",
    "            print(\"Input error.Please enter string input\")"
   ]
  },
  {
   "cell_type": "code",
   "execution_count": 138,
   "metadata": {},
   "outputs": [
    {
     "name": "stdout",
     "output_type": "stream",
     "text": [
      "Raj\n",
      "Ary\n",
      "Ine\n",
      "ds\n",
      "fd\n",
      "df\n",
      "Input error.Please enter string input\n",
      "Input error.Please enter string input\n",
      "Input error.Please enter string input\n",
      "Input error.Please enter string input\n"
     ]
    }
   ],
   "source": [
    "lst=[\"Rajat\",\"Aryan\",\"Ineuron\"]\n",
    "filter_long_words(lst,3)\n",
    "tpl=('dssdsd','fddff','dffd')\n",
    "filter_long_words1(tpl,2)\n",
    "listz=[1,2,3,4000]\n",
    "filter_long_words(listz,1)"
   ]
  },
  {
   "cell_type": "code",
   "execution_count": 139,
   "metadata": {},
   "outputs": [
    {
     "data": {
      "text/plain": [
       "'2.1 Write a Python program using function concept that maps list of words into a list of integers\\nrepresenting the lengths of the corresponding words.\\nHint: If a list [ ab,cde,erty] is passed on to the python function output should come as [2,3,4]\\nHere 2,3 and 4 are the lengths of the words in the list.'"
      ]
     },
     "execution_count": 139,
     "metadata": {},
     "output_type": "execute_result"
    }
   ],
   "source": [
    "\"\"\"2.1 Write a Python program using function concept that maps list of words into a list of integers\n",
    "representing the lengths of the corresponding words.\n",
    "Hint: If a list [ ab,cde,erty] is passed on to the python function output should come as [2,3,4]\n",
    "Here 2,3 and 4 are the lengths of the words in the list.\"\"\""
   ]
  },
  {
   "cell_type": "code",
   "execution_count": 140,
   "metadata": {},
   "outputs": [],
   "source": [
    "listip=['rajat','nipane','ineuron']\n",
    "tupleip=('exxy','kohinoor','jerry')\n",
    "def fun_length(obj):\n",
    "    listop=[]\n",
    "    for i in range(0,len(obj)):\n",
    "        if(type(obj[i]) != int and type(obj[i]) != float):\n",
    "            listop.append(len(obj[i]))\n",
    "        else:\n",
    "            print(\"Please enter list/tuple and in string format\")\n",
    "    return listop"
   ]
  },
  {
   "cell_type": "code",
   "execution_count": 141,
   "metadata": {},
   "outputs": [
    {
     "data": {
      "text/plain": [
       "[4, 8, 5]"
      ]
     },
     "execution_count": 141,
     "metadata": {},
     "output_type": "execute_result"
    }
   ],
   "source": [
    "fun_length1(listip)\n",
    "fun_length1(tupleip)"
   ]
  },
  {
   "cell_type": "code",
   "execution_count": 142,
   "metadata": {},
   "outputs": [
    {
     "data": {
      "text/plain": [
       "'2.2 Write a Python function which takes a character (i.e. a string of length 1) and returns True if\\nit is a vowel, False otherwise.'"
      ]
     },
     "execution_count": 142,
     "metadata": {},
     "output_type": "execute_result"
    }
   ],
   "source": [
    "\"\"\"2.2 Write a Python function which takes a character (i.e. a string of length 1) and returns True if\n",
    "it is a vowel, False otherwise.\"\"\""
   ]
  },
  {
   "cell_type": "code",
   "execution_count": 143,
   "metadata": {},
   "outputs": [],
   "source": [
    "def fun_charidentifier():\n",
    "    \n",
    "    ch = input(\"Enter a character: \")\n",
    "    if(len(ch) == 1 and type(ch) == str):\n",
    "        if(ch=='A' or ch=='a' or ch=='E' or ch =='e' or ch=='I' or ch=='i' or ch=='O' or ch=='o' or ch=='U' or ch=='u'):\n",
    "            print(ch, \"is a Vowel\")\n",
    "        else:\n",
    "            print(ch, \"is a Consonant\")\n",
    "    else:\n",
    "        print(\"Input error :Please enter Character\")"
   ]
  },
  {
   "cell_type": "code",
   "execution_count": 144,
   "metadata": {},
   "outputs": [
    {
     "name": "stdout",
     "output_type": "stream",
     "text": [
      "Enter a character: A\n",
      "A is a Vowel\n"
     ]
    }
   ],
   "source": [
    "fun_charidentifier()"
   ]
  },
  {
   "cell_type": "code",
   "execution_count": 145,
   "metadata": {},
   "outputs": [
    {
     "name": "stdout",
     "output_type": "stream",
     "text": [
      "Enter a character: sas\n",
      "Input error :Please enter Character\n"
     ]
    }
   ],
   "source": [
    "fun_charidentifier()"
   ]
  },
  {
   "cell_type": "code",
   "execution_count": null,
   "metadata": {},
   "outputs": [],
   "source": []
  }
 ],
 "metadata": {
  "kernelspec": {
   "display_name": "Python 3",
   "language": "python",
   "name": "python3"
  },
  "language_info": {
   "codemirror_mode": {
    "name": "ipython",
    "version": 3
   },
   "file_extension": ".py",
   "mimetype": "text/x-python",
   "name": "python",
   "nbconvert_exporter": "python",
   "pygments_lexer": "ipython3",
   "version": "3.8.3"
  }
 },
 "nbformat": 4,
 "nbformat_minor": 4
}
