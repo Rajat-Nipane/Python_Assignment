{
 "cells": [
  {
   "cell_type": "code",
   "execution_count": 1,
   "metadata": {},
   "outputs": [
    {
     "data": {
      "text/plain": [
       "'\\n1.Introduction \\nThis assignment will help you to consolidate the concepts learnt in the session. \\n2.Problem Statement \\n\\n\\nNote: Solution submitted via github must contain all the detailed steps. \\n3.Output \\nThis assignment consists of 200 marks and needs to be submitted in the upcoming session for evaluation. \\n'"
      ]
     },
     "execution_count": 1,
     "metadata": {},
     "output_type": "execute_result"
    }
   ],
   "source": [
    "\"\"\"\n",
    "1.Introduction \n",
    "This assignment will help you to consolidate the concepts learnt in the session. \n",
    "2.Problem Statement \n",
    "\n",
    "\n",
    "Note: Solution submitted via github must contain all the detailed steps. \n",
    "3.Output \n",
    "This assignment consists of 200 marks and needs to be submitted in the upcoming session for evaluation. \n",
    "\"\"\""
   ]
  },
  {
   "cell_type": "code",
   "execution_count": 2,
   "metadata": {},
   "outputs": [
    {
     "data": {
      "text/plain": [
       "'Problem Statement 1: \\nWrite a function so that the columns of the output matrix are powers of the input vector. \\nThe order of the powers is determined by the increasing boolean argument.\\nSpecifically, when increasing is False, the i-th output column is the input vector raised element-wise to the power of N - i - 1. \\nHINT: Such a matrix with a geometric progression in each row is named for Alexandre- Theophile Vandermonde. '"
      ]
     },
     "execution_count": 2,
     "metadata": {},
     "output_type": "execute_result"
    }
   ],
   "source": [
    "\"\"\"Problem Statement 1: \n",
    "Write a function so that the columns of the output matrix are powers of the input vector. \n",
    "The order of the powers is determined by the increasing boolean argument.\n",
    "Specifically, when increasing is False, the i-th output column is the input vector raised element-wise to the power of N - i - 1. \n",
    "HINT: Such a matrix with a geometric progression in each row is named for Alexandre- Theophile Vandermonde. \"\"\""
   ]
  },
  {
   "cell_type": "code",
   "execution_count": 4,
   "metadata": {},
   "outputs": [],
   "source": [
    "import numpy as np\n",
    "def fun_vandermonde(vec,x):\n",
    "    try:\n",
    "        mat=np.ones((len(vec),x))\n",
    "        for i in range(0,len(vec)):\n",
    "            #print(\"i:\",i)\n",
    "            count=x-1\n",
    "            for j in range(0,x):\n",
    "                #print(\"j:\",j)\n",
    "                mat[i][j]=(vec[i]**(count))\n",
    "                count=count-1\n",
    "        return mat\n",
    "    except Exception as e:\n",
    "        print(e)"
   ]
  },
  {
   "cell_type": "code",
   "execution_count": 6,
   "metadata": {},
   "outputs": [
    {
     "data": {
      "text/plain": [
       "array([[ 1.,  1.,  1.,  1.],\n",
       "       [ 8.,  4.,  2.,  1.],\n",
       "       [27.,  9.,  3.,  1.],\n",
       "       [64., 16.,  4.,  1.]])"
      ]
     },
     "execution_count": 6,
     "metadata": {},
     "output_type": "execute_result"
    }
   ],
   "source": [
    "arr=np.array([1,2,3,4])\n",
    "zz=fun_vandermonde(arr,4)\n",
    "zz"
   ]
  },
  {
   "cell_type": "code",
   "execution_count": 7,
   "metadata": {},
   "outputs": [
    {
     "data": {
      "text/plain": [
       "'Problem Statement 2: \\nGiven a sequence of n values x1, x2, ..., xn and a window size k>0, the k-th moving average of the given sequence is defined as follows: \\nThe moving average sequence has n-k+1 elements as shown below. \\nThe moving averages with k=4 of a ten-value sequence (n=10) is shown below \\ni 1 2 3 4 5 6 7 8 9 10 ===== == == == == == == == == == == Input 10 20 30 40 50 60 70 80 90 100 y1 25 = (10+20+30+40)/4 y2 35 = (20+30+40+50)/4 y3 45 = (30+40+50+60)/4 y4 55 = (40+50+60+70)/4 y5 65 = (50+60+70+80)/4 y6 75 = (60+70+80+90)/4 y7 85 = (70+80+90+100)/4 \\nThus, the moving average sequence has n-k+1=10-4+1=7 values. '"
      ]
     },
     "execution_count": 7,
     "metadata": {},
     "output_type": "execute_result"
    }
   ],
   "source": [
    "\"\"\"Problem Statement 2: \n",
    "Given a sequence of n values x1, x2, ..., xn and a window size k>0, the k-th moving average of the given sequence is defined as follows: \n",
    "The moving average sequence has n-k+1 elements as shown below. \n",
    "The moving averages with k=4 of a ten-value sequence (n=10) is shown below \n",
    "i 1 2 3 4 5 6 7 8 9 10 ===== == == == == == == == == == == Input 10 20 30 40 50 60 70 80 90 100 y1 25 = (10+20+30+40)/4 y2 35 = (20+30+40+50)/4 y3 45 = (30+40+50+60)/4 y4 55 = (40+50+60+70)/4 y5 65 = (50+60+70+80)/4 y6 75 = (60+70+80+90)/4 y7 85 = (70+80+90+100)/4 \n",
    "Thus, the moving average sequence has n-k+1=10-4+1=7 values. \"\"\""
   ]
  },
  {
   "cell_type": "code",
   "execution_count": 8,
   "metadata": {},
   "outputs": [],
   "source": [
    "import numpy as np\n",
    "def fun_MAseq(arr,n):   #Taking array and n\n",
    "    cumsum=np.cumsum(np.insert(arr,0,0))  ##Finding a cumulative sum as we will be needing them to calculate numerator\n",
    "    print(cumsum[n:])\n",
    "    print(cumsum[:-n])\n",
    "    return (cumsum[n:] - cumsum[:-n]) / float(n)  ##substracting cumsum from n step ahead value(ex (10+20+30+40-0)/4 and so on)"
   ]
  },
  {
   "cell_type": "code",
   "execution_count": 9,
   "metadata": {},
   "outputs": [
    {
     "name": "stdout",
     "output_type": "stream",
     "text": [
      "[100 150 210 280 360 450 550]\n",
      "[  0  10  30  60 100 150 210]\n"
     ]
    },
    {
     "data": {
      "text/plain": [
       "array([25., 35., 45., 55., 65., 75., 85.])"
      ]
     },
     "execution_count": 9,
     "metadata": {},
     "output_type": "execute_result"
    }
   ],
   "source": [
    "input=np.array([10,20,30,40,50,60,70,80,90,100])\n",
    "k=4\n",
    "y=fun_MAseq(input,k)\n",
    "y"
   ]
  },
  {
   "cell_type": "code",
   "execution_count": 10,
   "metadata": {},
   "outputs": [],
   "source": [
    "#Question: Write a function to find moving average in an array over a window: \n",
    "#Test it over [3, 5, 7, 2, 8, 10, 11, 65, 72, 81, 99, 100, 150] and window of 3. "
   ]
  },
  {
   "cell_type": "code",
   "execution_count": 13,
   "metadata": {},
   "outputs": [],
   "source": [
    "import numpy as np\n",
    "def fun_MA(arr,n):\n",
    "    cumsum=np.cumsum(np.insert(arr,0,0))\n",
    "    return (cumsum[n:] - cumsum[:-n]) / float(n)"
   ]
  },
  {
   "cell_type": "code",
   "execution_count": 14,
   "metadata": {},
   "outputs": [
    {
     "data": {
      "text/plain": [
       "array([  5.        ,   4.66666667,   5.66666667,   6.66666667,\n",
       "         9.66666667,  28.66666667,  49.33333333,  72.66666667,\n",
       "        84.        ,  93.33333333, 116.33333333])"
      ]
     },
     "execution_count": 14,
     "metadata": {},
     "output_type": "execute_result"
    }
   ],
   "source": [
    "arr1=np.array([3, 5, 7, 2, 8, 10, 11, 65, 72, 81, 99, 100, 150])\n",
    "x=fun_MA(arr1,3)\n",
    "x"
   ]
  },
  {
   "cell_type": "code",
   "execution_count": null,
   "metadata": {},
   "outputs": [],
   "source": []
  }
 ],
 "metadata": {
  "kernelspec": {
   "display_name": "Python 3",
   "language": "python",
   "name": "python3"
  },
  "language_info": {
   "codemirror_mode": {
    "name": "ipython",
    "version": 3
   },
   "file_extension": ".py",
   "mimetype": "text/x-python",
   "name": "python",
   "nbconvert_exporter": "python",
   "pygments_lexer": "ipython3",
   "version": "3.8.3"
  }
 },
 "nbformat": 4,
 "nbformat_minor": 4
}
